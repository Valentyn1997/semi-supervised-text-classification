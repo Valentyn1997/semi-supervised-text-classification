{
 "cells": [
  {
   "cell_type": "markdown",
   "metadata": {},
   "source": [
    "# Reproducing stance detection - UKP dataset"
   ]
  },
  {
   "cell_type": "code",
   "execution_count": 1,
   "metadata": {},
   "outputs": [],
   "source": [
    "import mlflow\n",
    "import pandas as pd\n",
    "\n",
    "mlflow.set_tracking_uri('http://localhost:5000')"
   ]
  },
  {
   "cell_type": "markdown",
   "metadata": {},
   "source": [
    "## In-topic"
   ]
  },
  {
   "cell_type": "code",
   "execution_count": 2,
   "metadata": {},
   "outputs": [],
   "source": [
    "runs = mlflow.search_runs(run_view_type=mlflow.tracking.client.ViewType.ACTIVE_ONLY, \n",
    "                          experiment_ids=[2, 4])"
   ]
  },
  {
   "cell_type": "code",
   "execution_count": 3,
   "metadata": {},
   "outputs": [
    {
     "data": {
      "text/html": [
       "<div>\n",
       "<style scoped>\n",
       "    .dataframe tbody tr th:only-of-type {\n",
       "        vertical-align: middle;\n",
       "    }\n",
       "\n",
       "    .dataframe tbody tr th {\n",
       "        vertical-align: top;\n",
       "    }\n",
       "\n",
       "    .dataframe thead th {\n",
       "        text-align: right;\n",
       "    }\n",
       "</style>\n",
       "<table border=\"1\" class=\"dataframe\">\n",
       "  <thead>\n",
       "    <tr style=\"text-align: right;\">\n",
       "      <th></th>\n",
       "      <th>params.task_name</th>\n",
       "      <th>metrics.test_acc</th>\n",
       "    </tr>\n",
       "  </thead>\n",
       "  <tbody>\n",
       "    <tr>\n",
       "      <th>0</th>\n",
       "      <td>SL2</td>\n",
       "      <td>0.775266</td>\n",
       "    </tr>\n",
       "    <tr>\n",
       "      <th>1</th>\n",
       "      <td>SL3</td>\n",
       "      <td>0.713643</td>\n",
       "    </tr>\n",
       "  </tbody>\n",
       "</table>\n",
       "</div>"
      ],
      "text/plain": [
       "  params.task_name  metrics.test_acc\n",
       "0              SL2          0.775266\n",
       "1              SL3          0.713643"
      ]
     },
     "execution_count": 3,
     "metadata": {},
     "output_type": "execute_result"
    }
   ],
   "source": [
    "runs.groupby('params.task_name')['metrics.test_acc'].max().reset_index()"
   ]
  },
  {
   "cell_type": "markdown",
   "metadata": {},
   "source": [
    "## Cross-topic"
   ]
  },
  {
   "cell_type": "code",
   "execution_count": 4,
   "metadata": {},
   "outputs": [],
   "source": [
    "runs = mlflow.search_runs(run_view_type=mlflow.tracking.client.ViewType.ACTIVE_ONLY, \n",
    "                          experiment_ids=[6, 7])"
   ]
  },
  {
   "cell_type": "code",
   "execution_count": 5,
   "metadata": {},
   "outputs": [
    {
     "data": {
      "text/html": [
       "<div>\n",
       "<style scoped>\n",
       "    .dataframe tbody tr th:only-of-type {\n",
       "        vertical-align: middle;\n",
       "    }\n",
       "\n",
       "    .dataframe tbody tr th {\n",
       "        vertical-align: top;\n",
       "    }\n",
       "\n",
       "    .dataframe thead th {\n",
       "        text-align: right;\n",
       "    }\n",
       "</style>\n",
       "<table border=\"1\" class=\"dataframe\">\n",
       "  <thead>\n",
       "    <tr style=\"text-align: right;\">\n",
       "      <th>params.test_id</th>\n",
       "      <th>abortion</th>\n",
       "      <th>cloning</th>\n",
       "      <th>death_penalty</th>\n",
       "      <th>gun_control</th>\n",
       "      <th>marijuana_legalization</th>\n",
       "      <th>minimum_wage</th>\n",
       "      <th>nuclear_energy</th>\n",
       "      <th>school_uniforms</th>\n",
       "      <th>mean</th>\n",
       "    </tr>\n",
       "    <tr>\n",
       "      <th>params.task_name</th>\n",
       "      <th></th>\n",
       "      <th></th>\n",
       "      <th></th>\n",
       "      <th></th>\n",
       "      <th></th>\n",
       "      <th></th>\n",
       "      <th></th>\n",
       "      <th></th>\n",
       "      <th></th>\n",
       "    </tr>\n",
       "  </thead>\n",
       "  <tbody>\n",
       "    <tr>\n",
       "      <th>SL2</th>\n",
       "      <td>0.587217</td>\n",
       "      <td>0.832362</td>\n",
       "      <td>0.498724</td>\n",
       "      <td>0.513774</td>\n",
       "      <td>0.699918</td>\n",
       "      <td>0.731145</td>\n",
       "      <td>0.768176</td>\n",
       "      <td>0.776295</td>\n",
       "      <td>0.675951</td>\n",
       "    </tr>\n",
       "    <tr>\n",
       "      <th>SL3</th>\n",
       "      <td>0.697378</td>\n",
       "      <td>0.704508</td>\n",
       "      <td>0.690496</td>\n",
       "      <td>0.647411</td>\n",
       "      <td>0.692525</td>\n",
       "      <td>0.762636</td>\n",
       "      <td>0.767897</td>\n",
       "      <td>0.772274</td>\n",
       "      <td>0.716891</td>\n",
       "    </tr>\n",
       "  </tbody>\n",
       "</table>\n",
       "</div>"
      ],
      "text/plain": [
       "params.test_id    abortion   cloning  death_penalty  gun_control  \\\n",
       "params.task_name                                                   \n",
       "SL2               0.587217  0.832362       0.498724     0.513774   \n",
       "SL3               0.697378  0.704508       0.690496     0.647411   \n",
       "\n",
       "params.test_id    marijuana_legalization  minimum_wage  nuclear_energy  \\\n",
       "params.task_name                                                         \n",
       "SL2                             0.699918      0.731145        0.768176   \n",
       "SL3                             0.692525      0.762636        0.767897   \n",
       "\n",
       "params.test_id    school_uniforms      mean  \n",
       "params.task_name                             \n",
       "SL2                      0.776295  0.675951  \n",
       "SL3                      0.772274  0.716891  "
      ]
     },
     "execution_count": 5,
     "metadata": {},
     "output_type": "execute_result"
    }
   ],
   "source": [
    "cross_topic = runs.groupby(['params.task_name', 'params.test_id'])['metrics.test_acc'].max().unstack()\n",
    "cross_topic['mean'] = cross_topic.values.mean(axis=1)\n",
    "cross_topic"
   ]
  },
  {
   "cell_type": "markdown",
   "metadata": {},
   "source": [
    "# REVIEWS dataset"
   ]
  },
  {
   "cell_type": "code",
   "execution_count": 10,
   "metadata": {},
   "outputs": [],
   "source": [
    "runs = mlflow.search_runs(run_view_type=mlflow.tracking.client.ViewType.ACTIVE_ONLY, \n",
    "                          experiment_ids=[3, 8])"
   ]
  },
  {
   "cell_type": "code",
   "execution_count": 11,
   "metadata": {},
   "outputs": [
    {
     "name": "stderr",
     "output_type": "stream",
     "text": [
      "/usr/local/anaconda3/lib/python3.7/site-packages/ipykernel_launcher.py:1: FutureWarning: Indexing with multiple keys (implicitly converted to a tuple of keys) will be deprecated, use a list instead.\n",
      "  \"\"\"Entry point for launching an IPython kernel.\n"
     ]
    },
    {
     "data": {
      "text/html": [
       "<div>\n",
       "<style scoped>\n",
       "    .dataframe tbody tr th:only-of-type {\n",
       "        vertical-align: middle;\n",
       "    }\n",
       "\n",
       "    .dataframe tbody tr th {\n",
       "        vertical-align: top;\n",
       "    }\n",
       "\n",
       "    .dataframe thead th {\n",
       "        text-align: right;\n",
       "    }\n",
       "</style>\n",
       "<table border=\"1\" class=\"dataframe\">\n",
       "  <thead>\n",
       "    <tr style=\"text-align: right;\">\n",
       "      <th></th>\n",
       "      <th>params.task_name</th>\n",
       "      <th>metrics.test_acc</th>\n",
       "      <th>metrics.test_f1_macro</th>\n",
       "    </tr>\n",
       "  </thead>\n",
       "  <tbody>\n",
       "    <tr>\n",
       "      <th>0</th>\n",
       "      <td>SL2</td>\n",
       "      <td>0.955128</td>\n",
       "      <td>0.930388</td>\n",
       "    </tr>\n",
       "    <tr>\n",
       "      <th>1</th>\n",
       "      <td>SL3</td>\n",
       "      <td>0.740214</td>\n",
       "      <td>0.735966</td>\n",
       "    </tr>\n",
       "  </tbody>\n",
       "</table>\n",
       "</div>"
      ],
      "text/plain": [
       "  params.task_name  metrics.test_acc  metrics.test_f1_macro\n",
       "0              SL2          0.955128               0.930388\n",
       "1              SL3          0.740214               0.735966"
      ]
     },
     "execution_count": 11,
     "metadata": {},
     "output_type": "execute_result"
    }
   ],
   "source": [
    "runs.groupby('params.task_name')['metrics.test_acc', 'metrics.test_f1_macro'].max().reset_index()"
   ]
  },
  {
   "cell_type": "code",
   "execution_count": null,
   "metadata": {},
   "outputs": [],
   "source": []
  }
 ],
 "metadata": {
  "kernelspec": {
   "display_name": "Python 3",
   "language": "python",
   "name": "python3"
  },
  "language_info": {
   "codemirror_mode": {
    "name": "ipython",
    "version": 3
   },
   "file_extension": ".py",
   "mimetype": "text/x-python",
   "name": "python",
   "nbconvert_exporter": "python",
   "pygments_lexer": "ipython3",
   "version": "3.7.6"
  }
 },
 "nbformat": 4,
 "nbformat_minor": 4
}
