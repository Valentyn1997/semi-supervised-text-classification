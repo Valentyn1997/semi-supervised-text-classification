{
 "cells": [
  {
   "cell_type": "code",
   "execution_count": 14,
   "metadata": {},
   "outputs": [],
   "source": [
    "import pandas as pd\n",
    "import nlpaug.flow as naf\n",
    "import nlpaug.augmenter.char as nac\n",
    "import nlpaug.augmenter.word as naw\n",
    "import nlpaug.augmenter.sentence as nas\n",
    "import nlpaug.flow as naf"
   ]
  },
  {
   "cell_type": "code",
   "execution_count": 7,
   "metadata": {},
   "outputs": [
    {
     "name": "stdout",
     "output_type": "stream",
     "text": [
      "Requirement already up-to-date: pyarrow in /usr/local/anaconda3/lib/python3.7/site-packages (1.0.1)\n",
      "Requirement already satisfied, skipping upgrade: numpy>=1.14 in /usr/local/anaconda3/lib/python3.7/site-packages (from pyarrow) (1.18.1)\n"
     ]
    }
   ],
   "source": [
    "!pip install pyarrow -U"
   ]
  },
  {
   "cell_type": "code",
   "execution_count": 2,
   "metadata": {},
   "outputs": [],
   "source": [
    "samples = [\n",
    "    'Also, L797: \"fat\" -> \"obese\".',\n",
    "    'I would also rethink the intro sentence \"Despite the increasing number of talented artists\" - not sure if that\\'s what the authors intend to say really.',\n",
    "    'Other than that, I think the paper is ready for GI. \"',\n",
    "    '\"The paper presents a system to obtain posed meshes of a human, based on input sketches of a stick figure.'\n",
    "]"
   ]
  },
  {
   "cell_type": "code",
   "execution_count": 13,
   "metadata": {},
   "outputs": [
    {
     "data": {
      "application/vnd.jupyter.widget-view+json": {
       "model_id": "98b833a1db0c4c519cb42316c55e2c08",
       "version_major": 2,
       "version_minor": 0
      },
      "text/plain": [
       "HBox(children=(FloatProgress(value=0.0, description='Downloading', max=1042301.0, style=ProgressStyle(descript…"
      ]
     },
     "metadata": {},
     "output_type": "display_data"
    },
    {
     "name": "stdout",
     "output_type": "stream",
     "text": [
      "\n"
     ]
    },
    {
     "data": {
      "application/vnd.jupyter.widget-view+json": {
       "model_id": "56960a412d014ec8b88fb045839a6126",
       "version_major": 2,
       "version_minor": 0
      },
      "text/plain": [
       "HBox(children=(FloatProgress(value=0.0, description='Downloading', max=456318.0, style=ProgressStyle(descripti…"
      ]
     },
     "metadata": {},
     "output_type": "display_data"
    },
    {
     "name": "stdout",
     "output_type": "stream",
     "text": [
      "\n"
     ]
    },
    {
     "data": {
      "application/vnd.jupyter.widget-view+json": {
       "model_id": "0ba8b0c15674432d9e123af7b11c6f9b",
       "version_major": 2,
       "version_minor": 0
      },
      "text/plain": [
       "HBox(children=(FloatProgress(value=0.0, description='Downloading', max=665.0, style=ProgressStyle(description_…"
      ]
     },
     "metadata": {},
     "output_type": "display_data"
    },
    {
     "name": "stdout",
     "output_type": "stream",
     "text": [
      "\n"
     ]
    },
    {
     "data": {
      "application/vnd.jupyter.widget-view+json": {
       "model_id": "85408ca18a48478ebd82f7522572c421",
       "version_major": 2,
       "version_minor": 0
      },
      "text/plain": [
       "HBox(children=(FloatProgress(value=0.0, description='Downloading', max=548118077.0, style=ProgressStyle(descri…"
      ]
     },
     "metadata": {},
     "output_type": "display_data"
    },
    {
     "name": "stdout",
     "output_type": "stream",
     "text": [
      "\n"
     ]
    }
   ],
   "source": [
    "# weak_transform = naf.Sometimes([\n",
    "#     naw.WordEmbsAug(model_type='word2vec', model_path='../resources/GoogleNews-vectors-negative300.bin', \n",
    "#                     action=\"substitute\", aug_p=0.1),\n",
    "#     naw.SynonymAug(aug_src='wordnet', aug_p=0.1),\n",
    "# ], pipeline_p = 0.4)\n",
    "\n",
    "strong_transform = naf.Sometimes([\n",
    "#     naw.BackTranslationAug(from_model_name='transformer.wmt19.en-de', to_model_name='transformer.wmt19.de-en')\n",
    "    naw.WordEmbsAug(model_type='word2vec', model_path='../resources/GoogleNews-vectors-negative300.bin', \n",
    "                    action=\"substitute\", aug_p=0.1),\n",
    "    naw.SynonymAug(aug_src='wordnet', aug_p=0.1),\n",
    "    nas.ContextualWordEmbsForSentenceAug(model_path='gpt2'), \n",
    "    nas.AbstSummAug(model_path='t5-base', num_beam=3, max_length=0.8)\n",
    "], pipeline_p = 0.3)"
   ]
  },
  {
   "cell_type": "code",
   "execution_count": 70,
   "metadata": {},
   "outputs": [
    {
     "data": {
      "text/plain": [
       "['Those, L797: \" fat \" -> \" obese \".',\n",
       " 'One would also rethink the intro sentence \" Despite the increasing number of exceptionally_gifted artists \" - not sure if that \\' s what the Anthony_Nyong intend to enunciate COACH_DONOVAN.',\n",
       " 'Other than that, Ane think the paper is ready for candidates_budesonide_MMX. \"',\n",
       " '\" The paper presents a procedures to obtain posed meshes of a human, based on input cartoon of a cling figure.']"
      ]
     },
     "execution_count": 70,
     "metadata": {},
     "output_type": "execute_result"
    }
   ],
   "source": [
    "[weak_transform.augment(sample) for sample in samples]"
   ]
  },
  {
   "cell_type": "code",
   "execution_count": 11,
   "metadata": {},
   "outputs": [
    {
     "data": {
      "text/plain": [
       "['\"fat\" -> \"obese\"',\n",
       " \"not sure if that's what the authors intend to say really.\",\n",
       " '\"I think the paper is ready for GI.',\n",
       " 'paper presents a system to obtain posed meshes of a human, based on input sketches. \"the paper presents an approach to obtain human, using input sketches of stick figure.']"
      ]
     },
     "execution_count": 11,
     "metadata": {},
     "output_type": "execute_result"
    }
   ],
   "source": [
    "[strong_transform.augment(sample) for sample in samples]"
   ]
  },
  {
   "cell_type": "code",
   "execution_count": null,
   "metadata": {},
   "outputs": [],
   "source": []
  },
  {
   "cell_type": "code",
   "execution_count": null,
   "metadata": {},
   "outputs": [],
   "source": []
  },
  {
   "cell_type": "code",
   "execution_count": null,
   "metadata": {},
   "outputs": [],
   "source": []
  },
  {
   "cell_type": "code",
   "execution_count": null,
   "metadata": {},
   "outputs": [],
   "source": [
    "naw.WordEmbsAug(model_type='word2vec', model_path=model_dir+'GoogleNews-vectors-negative300.bin', action=\"substitute\")\n",
    "naw.ContextualWordEmbsAug(model_path='bert-base-uncased', action=\"substitute\")\n",
    "naw.SynonymAug(aug_src='wordnet')"
   ]
  },
  {
   "cell_type": "code",
   "execution_count": null,
   "metadata": {},
   "outputs": [],
   "source": [
    "naw.BackTranslationAug(from_model_name='transformer.wmt19.en-de', to_model_name='transformer.wmt19.de-en')\n",
    "nas.ContextualWordEmbsForSentenceAug(model_path='xlnet-base-cased')\n",
    "nas.AbstSummAug(model_path='t5-base', num_beam=3)"
   ]
  },
  {
   "cell_type": "code",
   "execution_count": null,
   "metadata": {},
   "outputs": [],
   "source": [
    "# weak aug\n",
    "naw.WordEmbsAug(model_type='word2vec', model_path=model_dir+'GoogleNews-vectors-negative300.bin', action=\"substitute\")\n",
    "naw.SynonymAug(aug_src='wordnet')\n",
    "\n",
    "# strong aug \n",
    "naw.WordEmbsAug(model_type='word2vec', model_path=model_dir+'GoogleNews-vectors-negative300.bin', action=\"substitute\")\n",
    "naw.SynonymAug(aug_src='wordnet')\n",
    "naw.ContextualWordEmbsAug(model_path='bert-base-uncased', action=\"substitute\")\n",
    "naw.BackTranslationAug(from_model_name='transformer.wmt19.en-de', to_model_name='transformer.wmt19.de-en')\n",
    "nas.ContextualWordEmbsForSentenceAug(model_path='xlnet-base-cased')\n",
    "nas.AbstSummAug(model_path='t5-base', num_beam=3)"
   ]
  },
  {
   "cell_type": "code",
   "execution_count": null,
   "metadata": {},
   "outputs": [],
   "source": []
  },
  {
   "cell_type": "markdown",
   "metadata": {},
   "source": [
    "## Generating Offline augmentations"
   ]
  },
  {
   "cell_type": "code",
   "execution_count": null,
   "metadata": {},
   "outputs": [],
   "source": [
    "labelled_df = pd.read_csv('../data/REVIEWS-clean/in-topic/train.tsv', header=None, \n",
    "                          names=['id', 'sentence', 'annotation'], sep='\\t')\n"
   ]
  },
  {
   "cell_type": "code",
   "execution_count": 25,
   "metadata": {},
   "outputs": [],
   "source": [
    "abstr_sum = nas.AbstSummAug(model_path='t5-base', num_beam=1, max_length=0.5)"
   ]
  },
  {
   "cell_type": "code",
   "execution_count": 26,
   "metadata": {},
   "outputs": [
    {
     "data": {
      "text/plain": [
       "['Also, L797: \"fat\" -> \"obese\".',\n",
       " 'I would also rethink the intro sentence \"Despite the increasing number of talented artists\" - not sure if that\\'s what the authors intend to say really.',\n",
       " 'Other than that, I think the paper is ready for GI. \"',\n",
       " '\"The paper presents a system to obtain posed meshes of a human, based on input sketches of a stick figure.']"
      ]
     },
     "execution_count": 26,
     "metadata": {},
     "output_type": "execute_result"
    }
   ],
   "source": [
    "samples"
   ]
  },
  {
   "cell_type": "code",
   "execution_count": 27,
   "metadata": {},
   "outputs": [
    {
     "data": {
      "text/plain": [
       "['\"fat\" -> \"obese\"',\n",
       " 'despite the increasing number of talented artists, the authors are still a relatively small number.',\n",
       " '\"I think the paper is ready for GI,\" says a spokesman.',\n",
       " 'paper presents a system to obtain posed meshes of a human. paper based on input sketches of.']"
      ]
     },
     "execution_count": 27,
     "metadata": {},
     "output_type": "execute_result"
    }
   ],
   "source": [
    "[abstr_sum.augment(sample) for sample in samples]"
   ]
  },
  {
   "cell_type": "code",
   "execution_count": 28,
   "metadata": {},
   "outputs": [
    {
     "data": {
      "text/plain": [
       "['\"fat\" -> \"obese\"',\n",
       " 'despite the increasing number of talented artists, the authors are still a relatively small number.',\n",
       " '\"I think the paper is ready for GI,\" says a spokesman.',\n",
       " 'paper presents a system to obtain posed meshes of a human. paper based on input sketches of.']"
      ]
     },
     "execution_count": 28,
     "metadata": {},
     "output_type": "execute_result"
    }
   ],
   "source": [
    "[abstr_sum.augment(sample) for sample in samples]"
   ]
  },
  {
   "cell_type": "code",
   "execution_count": null,
   "metadata": {},
   "outputs": [],
   "source": []
  }
 ],
 "metadata": {
  "kernelspec": {
   "display_name": "Python 3",
   "language": "python",
   "name": "python3"
  },
  "language_info": {
   "codemirror_mode": {
    "name": "ipython",
    "version": 3
   },
   "file_extension": ".py",
   "mimetype": "text/x-python",
   "name": "python",
   "nbconvert_exporter": "python",
   "pygments_lexer": "ipython3",
   "version": "3.7.6"
  }
 },
 "nbformat": 4,
 "nbformat_minor": 4
}
